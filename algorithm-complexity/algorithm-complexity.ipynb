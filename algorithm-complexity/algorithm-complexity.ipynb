{
 "cells": [
  {
   "cell_type": "markdown",
   "metadata": {},
   "source": [
    "# Building Fast Queries on a CSV\n",
    "\n",
    "The goal of this project is to create a class that represents the laptop inventory provided. The methods in that class will implement the queries that we want to answer about our inventory. We will also preprocess that data to make those queries run faster.\n",
    "\n",
    "Here are some queries that we will want to answer:\n",
    "\n",
    "* Given a laptop id, find the corresponding data.\n",
    "* Given an amount of money, find whether there are two laptops whose total price is that given amount.\n",
    "* Identify all laptops whose price falls within a given budget"
   ]
  },
  {
   "cell_type": "code",
   "execution_count": 5,
   "metadata": {
    "collapsed": false
   },
   "outputs": [
    {
     "name": "stdout",
     "output_type": "stream",
     "text": [
      "['Id', 'Company', 'Product', 'TypeName', 'Inches', 'ScreenResolution', 'Cpu', 'Ram', 'Memory', 'Gpu', 'OpSys', 'Weight', 'Price']\n",
      "[['6571244', 'Apple', 'MacBook Pro', 'Ultrabook', '13.3', 'IPS Panel Retina Display 2560x1600', 'Intel Core i5 2.3GHz', '8GB', '128GB SSD', 'Intel Iris Plus Graphics 640', 'macOS', '1.37kg', '1339'], ['7287764', 'Apple', 'Macbook Air', 'Ultrabook', '13.3', '1440x900', 'Intel Core i5 1.8GHz', '8GB', '128GB Flash Storage', 'Intel HD Graphics 6000', 'macOS', '1.34kg', '898'], ['3362737', 'HP', '250 G6', 'Notebook', '15.6', 'Full HD 1920x1080', 'Intel Core i5 7200U 2.5GHz', '8GB', '256GB SSD', 'Intel HD Graphics 620', 'No OS', '1.86kg', '575'], ['9722156', 'Apple', 'MacBook Pro', 'Ultrabook', '15.4', 'IPS Panel Retina Display 2880x1800', 'Intel Core i7 2.7GHz', '16GB', '512GB SSD', 'AMD Radeon Pro 455', 'macOS', '1.83kg', '2537'], ['8550527', 'Apple', 'MacBook Pro', 'Ultrabook', '13.3', 'IPS Panel Retina Display 2560x1600', 'Intel Core i5 3.1GHz', '8GB', '256GB SSD', 'Intel Iris Plus Graphics 650', 'macOS', '1.37kg', '1803']]\n"
     ]
    }
   ],
   "source": [
    "import csv\n",
    "\n",
    "with open('laptops.csv', encoding='utf8') as f:\n",
    "    rows = list(csv.reader(f))\n",
    "    header = rows[0]\n",
    "    print(header)\n",
    "    print(rows[1:6])\n",
    "    "
   ]
  },
  {
   "cell_type": "code",
   "execution_count": 70,
   "metadata": {
    "collapsed": false
   },
   "outputs": [
    {
     "name": "stdout",
     "output_type": "stream",
     "text": [
      "['Id', 'Company', 'Product', 'TypeName', 'Inches', 'ScreenResolution', 'Cpu', 'Ram', 'Memory', 'Gpu', 'OpSys', 'Weight', 'Price']\n",
      "1303\n",
      "['3362737', 'HP', '250 G6', 'Notebook', '15.6', 'Full HD 1920x1080', 'Intel Core i5 7200U 2.5GHz', '8GB', '256GB SSD', 'Intel HD Graphics 620', 'No OS', '1.86kg', '575']\n",
      "None\n"
     ]
    }
   ],
   "source": [
    "class Inventory():\n",
    "    def __init__(self, csv_filename):\n",
    "        with open(csv_filename, encoding='utf8') as f:\n",
    "            rows = list(csv.reader(f))\n",
    "            self.header = rows[0]\n",
    "            self.rows = rows[1:]\n",
    "            self.id_to_row = {}\n",
    "            self.prices = set()\n",
    "            for row in self.rows:\n",
    "                self.prices.add(int(row[12]))\n",
    "                self.id_to_row[row[0]] = row\n",
    "\n",
    "    def get_laptop_from_id(self, laptop_id):\n",
    "        for row in self.rows:\n",
    "            if row[0] == laptop_id:\n",
    "                return row\n",
    "        return None\n",
    "    \n",
    "    def get_laptop_from_id_fast(self, laptop_id):\n",
    "        return self.id_to_row.get(laptop_id)\n",
    "    \n",
    "    def check_promotion_dollars(self, dollars):\n",
    "        for row in self.rows:\n",
    "            if int(row[12]) == dollars:\n",
    "                return True\n",
    "        for row1 in self.rows:\n",
    "            for row2 in self.rows:\n",
    "                if int(row1[12]) + int(row2[12]) == dollars:\n",
    "                    return True\n",
    "        return False\n",
    "    \n",
    "    def check_promotion_dollars_fast(self, dollars):\n",
    "            if dollars in self.prices:\n",
    "                    return True\n",
    "            for price1 in self.prices:\n",
    "                price2 = dollars - price1\n",
    "                if price2 in self.prices:\n",
    "                    return True\n",
    "            return False\n",
    "\n",
    "my_inventory = Inventory('laptops.csv')\n",
    "print(my_inventory.header)\n",
    "print(len(my_inventory.rows))\n",
    "print(my_inventory.get_laptop_from_id_fast('3362737'))\n",
    "print(my_inventory.get_laptop_from_id_fast('3362736'))\n"
   ]
  },
  {
   "cell_type": "markdown",
   "metadata": {},
   "source": [
    "Testing time difference between lookup in a list (O(N)) and in a dicionary ~(O(1))"
   ]
  },
  {
   "cell_type": "code",
   "execution_count": 71,
   "metadata": {
    "collapsed": false
   },
   "outputs": [
    {
     "name": "stdout",
     "output_type": "stream",
     "text": [
      "Time with list(s):  1.5779602527618408\n",
      "Time with dictionary(s):  0.008081436157226562\n"
     ]
    }
   ],
   "source": [
    "import time\n",
    "import random \n",
    "id_values = [str(random.randint(1000000, 9999999)) for _ in range(10000)]\n",
    "\n",
    "my_inventory = Inventory('laptops.csv')\n",
    "total_time_no_dict = 0\n",
    "for laptop_id in id_values:\n",
    "    start = time.time()\n",
    "    my_inventory.get_laptop_from_id(laptop_id)\n",
    "    end = time.time()\n",
    "    total_time_no_dict += (end - start)\n",
    "\n",
    "total_time_dict = 0\n",
    "for laptop_id in id_values:\n",
    "    start = time.time()\n",
    "    my_inventory.get_laptop_from_id_fast(laptop_id)\n",
    "    end = time.time()\n",
    "    total_time_dict += (end - start)\n",
    "\n",
    "print('Time with list(s): ', total_time_no_dict)\n",
    "print('Time with dictionary(s): ', total_time_dict)"
   ]
  },
  {
   "cell_type": "code",
   "execution_count": 72,
   "metadata": {
    "collapsed": false
   },
   "outputs": [
    {
     "name": "stdout",
     "output_type": "stream",
     "text": [
      "Is there a gift card for 1000 dollars:  True\n",
      "Is there a gift card for 442 dollars:  False\n"
     ]
    }
   ],
   "source": [
    "my_inventory = Inventory('laptops.csv')\n",
    "print('Is there a gift card for 1000 dollars: ', my_inventory.check_promotion_dollars(1000))\n",
    "print('Is there a gift card for 442 dollars: ', my_inventory.check_promotion_dollars(442))"
   ]
  },
  {
   "cell_type": "markdown",
   "metadata": {},
   "source": [
    "Testing time difference between list and set:"
   ]
  },
  {
   "cell_type": "code",
   "execution_count": 73,
   "metadata": {
    "collapsed": false
   },
   "outputs": [
    {
     "name": "stdout",
     "output_type": "stream",
     "text": [
      "Time with list(s):  4.755108118057251\n",
      "Time with set(s):  0.0008120536804199219\n"
     ]
    }
   ],
   "source": [
    "prices = [random.randint(100, 5000) for _ in range(100)]\n",
    "my_inventory = Inventory('laptops.csv')\n",
    "total_time_no_set = 0\n",
    "for price in prices:\n",
    "    start = time.time()\n",
    "    my_inventory.check_promotion_dollars(price)\n",
    "    end = time.time()\n",
    "    total_time_no_set += (end - start)\n",
    "\n",
    "total_time_set = 0\n",
    "for price in prices:\n",
    "    start = time.time()\n",
    "    my_inventory.check_promotion_dollars_fast(price)\n",
    "    end = time.time()\n",
    "    total_time_set += (end - start)\n",
    "\n",
    "print('Time with list(s): ', total_time_no_set)\n",
    "print('Time with set(s): ', total_time_set)"
   ]
  }
 ],
 "metadata": {
  "kernelspec": {
   "display_name": "Python 3",
   "language": "python",
   "name": "python3"
  },
  "language_info": {
   "codemirror_mode": {
    "name": "ipython",
    "version": 3
   },
   "file_extension": ".py",
   "mimetype": "text/x-python",
   "name": "python",
   "nbconvert_exporter": "python",
   "pygments_lexer": "ipython3",
   "version": "3.4.3"
  }
 },
 "nbformat": 4,
 "nbformat_minor": 2
}
